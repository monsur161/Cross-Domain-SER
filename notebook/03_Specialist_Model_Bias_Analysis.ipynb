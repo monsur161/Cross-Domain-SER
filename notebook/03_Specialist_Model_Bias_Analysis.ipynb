{
 "cells": [
  {
   "cell_type": "markdown",
   "metadata": {},
   "source": [
    "# Phase 3: A Deeper Investigation - Probing the Specialist Model for Bias\n",
    "\n",
    "**Objective:** Before attempting to solve the domain generalization problem, this phase performs a crucial fairness audit on the Specialist Model we developed. The goal is to investigate whether the model exhibits performance differences based on speaker gender, a critical step in responsible AI development."
   ]
  },
  {
   "cell_type": "code",
   "execution_count": 1,
   "metadata": {
    "colab": {
     "base_uri": "https://localhost:8080/"
    },
    "executionInfo": {
     "elapsed": 35413,
     "status": "ok",
     "timestamp": 1756756585995,
     "user": {
      "displayName": "Monsur Abdullah",
      "userId": "12726162145146472590"
     },
     "user_tz": -360
    },
    "id": "H9p1BUmyvLzK",
    "outputId": "ee0a0bcf-a215-46e9-caae-67ee8472b79b"
   },
   "outputs": [
    {
     "name": "stdout",
     "output_type": "stream",
     "text": [
      "Mounted at /content/drive\n",
      "Requirement already satisfied: librosa in /usr/local/lib/python3.12/dist-packages (0.11.0)\n",
      "Collecting resampy\n",
      "  Downloading resampy-0.4.3-py3-none-any.whl.metadata (3.0 kB)\n",
      "Collecting praat-parselmouth\n",
      "  Downloading praat_parselmouth-0.4.6-cp312-cp312-manylinux_2_17_x86_64.manylinux2014_x86_64.whl.metadata (2.9 kB)\n",
      "Collecting audiomentations\n",
      "  Downloading audiomentations-0.42.0-py3-none-any.whl.metadata (11 kB)\n",
      "Requirement already satisfied: audioread>=2.1.9 in /usr/local/lib/python3.12/dist-packages (from librosa) (3.0.1)\n",
      "Requirement already satisfied: numba>=0.51.0 in /usr/local/lib/python3.12/dist-packages (from librosa) (0.60.0)\n",
      "Requirement already satisfied: numpy>=1.22.3 in /usr/local/lib/python3.12/dist-packages (from librosa) (2.0.2)\n",
      "Requirement already satisfied: scipy>=1.6.0 in /usr/local/lib/python3.12/dist-packages (from librosa) (1.16.1)\n",
      "Requirement already satisfied: scikit-learn>=1.1.0 in /usr/local/lib/python3.12/dist-packages (from librosa) (1.6.1)\n",
      "Requirement already satisfied: joblib>=1.0 in /usr/local/lib/python3.12/dist-packages (from librosa) (1.5.1)\n",
      "Requirement already satisfied: decorator>=4.3.0 in /usr/local/lib/python3.12/dist-packages (from librosa) (4.4.2)\n",
      "Requirement already satisfied: soundfile>=0.12.1 in /usr/local/lib/python3.12/dist-packages (from librosa) (0.13.1)\n",
      "Requirement already satisfied: pooch>=1.1 in /usr/local/lib/python3.12/dist-packages (from librosa) (1.8.2)\n",
      "Requirement already satisfied: soxr>=0.3.2 in /usr/local/lib/python3.12/dist-packages (from librosa) (0.5.0.post1)\n",
      "Requirement already satisfied: typing_extensions>=4.1.1 in /usr/local/lib/python3.12/dist-packages (from librosa) (4.15.0)\n",
      "Requirement already satisfied: lazy_loader>=0.1 in /usr/local/lib/python3.12/dist-packages (from librosa) (0.4)\n",
      "Requirement already satisfied: msgpack>=1.0 in /usr/local/lib/python3.12/dist-packages (from librosa) (1.1.1)\n",
      "Collecting numpy-minmax<1,>=0.3.0 (from audiomentations)\n",
      "  Downloading numpy_minmax-0.5.0-cp312-cp312-manylinux_2_5_x86_64.manylinux1_x86_64.manylinux_2_17_x86_64.manylinux2014_x86_64.whl.metadata (4.0 kB)\n",
      "Collecting numpy-rms<1,>=0.4.2 (from audiomentations)\n",
      "  Downloading numpy_rms-0.6.0-cp312-cp312-manylinux_2_5_x86_64.manylinux1_x86_64.manylinux_2_17_x86_64.manylinux2014_x86_64.whl.metadata (3.5 kB)\n",
      "Collecting python-stretch<1,>=0.3.1 (from audiomentations)\n",
      "  Downloading python_stretch-0.3.1-cp312-abi3-manylinux_2_17_x86_64.manylinux2014_x86_64.whl.metadata (3.7 kB)\n",
      "Requirement already satisfied: packaging in /usr/local/lib/python3.12/dist-packages (from lazy_loader>=0.1->librosa) (25.0)\n",
      "Requirement already satisfied: llvmlite<0.44,>=0.43.0dev0 in /usr/local/lib/python3.12/dist-packages (from numba>=0.51.0->librosa) (0.43.0)\n",
      "Requirement already satisfied: cffi>=1.0.0 in /usr/local/lib/python3.12/dist-packages (from numpy-minmax<1,>=0.3.0->audiomentations) (1.17.1)\n",
      "Requirement already satisfied: platformdirs>=2.5.0 in /usr/local/lib/python3.12/dist-packages (from pooch>=1.1->librosa) (4.3.8)\n",
      "Requirement already satisfied: requests>=2.19.0 in /usr/local/lib/python3.12/dist-packages (from pooch>=1.1->librosa) (2.32.4)\n",
      "Requirement already satisfied: threadpoolctl>=3.1.0 in /usr/local/lib/python3.12/dist-packages (from scikit-learn>=1.1.0->librosa) (3.6.0)\n",
      "Requirement already satisfied: pycparser in /usr/local/lib/python3.12/dist-packages (from cffi>=1.0.0->numpy-minmax<1,>=0.3.0->audiomentations) (2.22)\n",
      "Requirement already satisfied: charset_normalizer<4,>=2 in /usr/local/lib/python3.12/dist-packages (from requests>=2.19.0->pooch>=1.1->librosa) (3.4.3)\n",
      "Requirement already satisfied: idna<4,>=2.5 in /usr/local/lib/python3.12/dist-packages (from requests>=2.19.0->pooch>=1.1->librosa) (3.10)\n",
      "Requirement already satisfied: urllib3<3,>=1.21.1 in /usr/local/lib/python3.12/dist-packages (from requests>=2.19.0->pooch>=1.1->librosa) (2.5.0)\n",
      "Requirement already satisfied: certifi>=2017.4.17 in /usr/local/lib/python3.12/dist-packages (from requests>=2.19.0->pooch>=1.1->librosa) (2025.8.3)\n",
      "Downloading resampy-0.4.3-py3-none-any.whl (3.1 MB)\n",
      "\u001b[2K   \u001b[90m━━━━━━━━━━━━━━━━━━━━━━━━━━━━━━━━━━━━━━━━\u001b[0m \u001b[32m3.1/3.1 MB\u001b[0m \u001b[31m48.4 MB/s\u001b[0m eta \u001b[36m0:00:00\u001b[0m\n",
      "\u001b[?25hDownloading praat_parselmouth-0.4.6-cp312-cp312-manylinux_2_17_x86_64.manylinux2014_x86_64.whl (10.7 MB)\n",
      "\u001b[2K   \u001b[90m━━━━━━━━━━━━━━━━━━━━━━━━━━━━━━━━━━━━━━━━\u001b[0m \u001b[32m10.7/10.7 MB\u001b[0m \u001b[31m119.7 MB/s\u001b[0m eta \u001b[36m0:00:00\u001b[0m\n",
      "\u001b[?25hDownloading audiomentations-0.42.0-py3-none-any.whl (86 kB)\n",
      "\u001b[2K   \u001b[90m━━━━━━━━━━━━━━━━━━━━━━━━━━━━━━━━━━━━━━━━\u001b[0m \u001b[32m86.5/86.5 kB\u001b[0m \u001b[31m8.3 MB/s\u001b[0m eta \u001b[36m0:00:00\u001b[0m\n",
      "\u001b[?25hDownloading numpy_minmax-0.5.0-cp312-cp312-manylinux_2_5_x86_64.manylinux1_x86_64.manylinux_2_17_x86_64.manylinux2014_x86_64.whl (30 kB)\n",
      "Downloading numpy_rms-0.6.0-cp312-cp312-manylinux_2_5_x86_64.manylinux1_x86_64.manylinux_2_17_x86_64.manylinux2014_x86_64.whl (18 kB)\n",
      "Downloading python_stretch-0.3.1-cp312-abi3-manylinux_2_17_x86_64.manylinux2014_x86_64.whl (109 kB)\n",
      "\u001b[2K   \u001b[90m━━━━━━━━━━━━━━━━━━━━━━━━━━━━━━━━━━━━━━━━\u001b[0m \u001b[32m109.4/109.4 kB\u001b[0m \u001b[31m10.4 MB/s\u001b[0m eta \u001b[36m0:00:00\u001b[0m\n",
      "\u001b[?25hInstalling collected packages: python-stretch, praat-parselmouth, resampy, numpy-rms, numpy-minmax, audiomentations\n",
      "Successfully installed audiomentations-0.42.0 numpy-minmax-0.5.0 numpy-rms-0.6.0 praat-parselmouth-0.4.6 python-stretch-0.3.1 resampy-0.4.3\n"
     ]
    }
   ],
   "source": [
    "# --- Mount Google Drive ---\n",
    "from google.colab import drive\n",
    "drive.mount('/content/drive')\n",
    "\n",
    "# --- Install All Necessary Packages ---\n",
    "!pip install librosa resampy praat-parselmouth audiomentations"
   ]
  },
  {
   "cell_type": "code",
   "execution_count": 2,
   "metadata": {
    "colab": {
     "base_uri": "https://localhost:8080/"
    },
    "executionInfo": {
     "elapsed": 590841,
     "status": "ok",
     "timestamp": 1756757184825,
     "user": {
      "displayName": "Monsur Abdullah",
      "userId": "12726162145146472590"
     },
     "user_tz": -360
    },
    "id": "jGbXycLuvVr0",
    "outputId": "58e93e0d-38db-47d5-b3b2-ac2d8268026e"
   },
   "outputs": [
    {
     "name": "stdout",
     "output_type": "stream",
     "text": [
      "Starting audio to spectrogram conversion for RAVDESS...\n"
     ]
    },
    {
     "name": "stderr",
     "output_type": "stream",
     "text": [
      "Processing RAVDESS Actors: 100%|██████████| 24/24 [09:50<00:00, 24.59s/it]"
     ]
    },
    {
     "name": "stdout",
     "output_type": "stream",
     "text": [
      "\n",
      "RAVDESS spectrogram conversion complete.\n"
     ]
    },
    {
     "name": "stderr",
     "output_type": "stream",
     "text": [
      "\n"
     ]
    }
   ],
   "source": [
    "# --- This script creates the pre-computed spectrograms for RAVDESS ---\n",
    "import os\n",
    "import librosa\n",
    "import numpy as np\n",
    "from tqdm import tqdm\n",
    "\n",
    "# --- Configuration ---\n",
    "AUDIO_PATH = \"/content/drive/MyDrive/ser_project/ravdess_data/\"\n",
    "SPECTROGRAM_PATH = \"/content/drive/MyDrive/ser_project/ravdess_spectrograms/\"\n",
    "os.makedirs(SPECTROGRAM_PATH, exist_ok=True)\n",
    "\n",
    "print(\"Starting audio to spectrogram conversion for RAVDESS...\")\n",
    "actor_folders = [f for f in os.listdir(AUDIO_PATH) if os.path.isdir(os.path.join(AUDIO_PATH, f))]\n",
    "for actor_folder in tqdm(actor_folders, desc=\"Processing RAVDESS Actors\"):\n",
    "    actor_path = os.path.join(AUDIO_PATH, actor_folder)\n",
    "    for file_name in os.listdir(actor_path):\n",
    "        try:\n",
    "            file_path = os.path.join(actor_path, file_name)\n",
    "            audio, sr = librosa.load(file_path, res_type='kaiser_fast', duration=3, sr=22050*2, offset=0.5)\n",
    "            spectrogram = librosa.feature.melspectrogram(y=audio, sr=sr, n_mels=128, fmax=8000)\n",
    "            db_spectrogram = librosa.power_to_db(spectrogram, ref=np.max)\n",
    "            output_filename = os.path.join(SPECTROGRAM_PATH, f\"{os.path.splitext(file_name)[0]}.npy\")\n",
    "            np.save(output_filename, db_spectrogram)\n",
    "        except Exception as e:\n",
    "            print(f\"\\nError processing {file_path}: {e}\")\n",
    "\n",
    "print(\"\\nRAVDESS spectrogram conversion complete.\")"
   ]
  },
  {
   "cell_type": "markdown",
   "metadata": {},
   "source": [
    "## Part 1: Re-establishing a Consistent Specialist Model\n",
    "\n",
    "To ensure our analysis is reliable, we first re-train our robust Specialist Model using the exact same methodology as in Phase 2 (on-the-fly augmentation and early stopping). This provides a consistent and high-performing model to serve as the subject for our bias audit."
   ]
  },
  {
   "cell_type": "code",
   "execution_count": 3,
   "metadata": {
    "colab": {
     "base_uri": "https://localhost:8080/"
    },
    "executionInfo": {
     "elapsed": 3947677,
     "status": "ok",
     "timestamp": 1756761142608,
     "user": {
      "displayName": "Monsur Abdullah",
      "userId": "12726162145146472590"
     },
     "user_tz": -360
    },
    "id": "ZMwFgiQuvbTl",
    "outputId": "a3148ece-5aed-418c-e2c7-d01b2288b767"
   },
   "outputs": [
    {
     "name": "stdout",
     "output_type": "stream",
     "text": [
      "Using device: cuda\n",
      "Downloading: \"https://download.pytorch.org/models/resnet18-f37072fd.pth\" to /root/.cache/torch/hub/checkpoints/resnet18-f37072fd.pth\n"
     ]
    },
    {
     "name": "stderr",
     "output_type": "stream",
     "text": [
      "100%|██████████| 44.7M/44.7M [00:00<00:00, 180MB/s]\n"
     ]
    },
    {
     "name": "stdout",
     "output_type": "stream",
     "text": [
      "Starting main training with augmentation and early stopping...\n"
     ]
    },
    {
     "name": "stderr",
     "output_type": "stream",
     "text": [
      "Epoch 1/30 [Train]: 100%|██████████| 36/36 [02:03<00:00,  3.42s/it]\n",
      "Epoch 1/30 [Val]: 100%|██████████| 5/5 [00:11<00:00,  2.22s/it]\n"
     ]
    },
    {
     "name": "stdout",
     "output_type": "stream",
     "text": [
      "Epoch 1/30 | Train Loss: 1.6532 | Val Loss: 2.8823 | Val Acc: 37.50%\n",
      "🎉 New best validation accuracy: 37.50%. Saving model...\n"
     ]
    },
    {
     "name": "stderr",
     "output_type": "stream",
     "text": [
      "Epoch 2/30 [Train]: 100%|██████████| 36/36 [02:00<00:00,  3.35s/it]\n",
      "Epoch 2/30 [Val]: 100%|██████████| 5/5 [00:10<00:00,  2.11s/it]\n"
     ]
    },
    {
     "name": "stdout",
     "output_type": "stream",
     "text": [
      "Epoch 2/30 | Train Loss: 1.2781 | Val Loss: 1.2296 | Val Acc: 56.94%\n",
      "🎉 New best validation accuracy: 56.94%. Saving model...\n"
     ]
    },
    {
     "name": "stderr",
     "output_type": "stream",
     "text": [
      "Epoch 3/30 [Train]: 100%|██████████| 36/36 [01:58<00:00,  3.30s/it]\n",
      "Epoch 3/30 [Val]: 100%|██████████| 5/5 [00:11<00:00,  2.21s/it]\n"
     ]
    },
    {
     "name": "stdout",
     "output_type": "stream",
     "text": [
      "Epoch 3/30 | Train Loss: 1.0166 | Val Loss: 2.9642 | Val Acc: 29.86%\n"
     ]
    },
    {
     "name": "stderr",
     "output_type": "stream",
     "text": [
      "Epoch 4/30 [Train]: 100%|██████████| 36/36 [02:00<00:00,  3.33s/it]\n",
      "Epoch 4/30 [Val]: 100%|██████████| 5/5 [00:10<00:00,  2.13s/it]\n"
     ]
    },
    {
     "name": "stdout",
     "output_type": "stream",
     "text": [
      "Epoch 4/30 | Train Loss: 0.9587 | Val Loss: 2.2445 | Val Acc: 47.22%\n"
     ]
    },
    {
     "name": "stderr",
     "output_type": "stream",
     "text": [
      "Epoch 5/30 [Train]: 100%|██████████| 36/36 [01:59<00:00,  3.31s/it]\n",
      "Epoch 5/30 [Val]: 100%|██████████| 5/5 [00:10<00:00,  2.19s/it]\n"
     ]
    },
    {
     "name": "stdout",
     "output_type": "stream",
     "text": [
      "Epoch 5/30 | Train Loss: 0.8055 | Val Loss: 1.3951 | Val Acc: 60.42%\n",
      "🎉 New best validation accuracy: 60.42%. Saving model...\n"
     ]
    },
    {
     "name": "stderr",
     "output_type": "stream",
     "text": [
      "Epoch 6/30 [Train]: 100%|██████████| 36/36 [02:02<00:00,  3.41s/it]\n",
      "Epoch 6/30 [Val]: 100%|██████████| 5/5 [00:11<00:00,  2.20s/it]\n"
     ]
    },
    {
     "name": "stdout",
     "output_type": "stream",
     "text": [
      "Epoch 6/30 | Train Loss: 0.6904 | Val Loss: 0.9537 | Val Acc: 63.19%\n",
      "🎉 New best validation accuracy: 63.19%. Saving model...\n"
     ]
    },
    {
     "name": "stderr",
     "output_type": "stream",
     "text": [
      "Epoch 7/30 [Train]: 100%|██████████| 36/36 [02:02<00:00,  3.41s/it]\n",
      "Epoch 7/30 [Val]: 100%|██████████| 5/5 [00:09<00:00,  1.97s/it]\n"
     ]
    },
    {
     "name": "stdout",
     "output_type": "stream",
     "text": [
      "Epoch 7/30 | Train Loss: 0.5786 | Val Loss: 1.1922 | Val Acc: 68.06%\n",
      "🎉 New best validation accuracy: 68.06%. Saving model...\n"
     ]
    },
    {
     "name": "stderr",
     "output_type": "stream",
     "text": [
      "Epoch 8/30 [Train]: 100%|██████████| 36/36 [02:00<00:00,  3.36s/it]\n",
      "Epoch 8/30 [Val]: 100%|██████████| 5/5 [00:10<00:00,  2.18s/it]\n"
     ]
    },
    {
     "name": "stdout",
     "output_type": "stream",
     "text": [
      "Epoch 8/30 | Train Loss: 0.3844 | Val Loss: 0.7905 | Val Acc: 75.69%\n",
      "🎉 New best validation accuracy: 75.69%. Saving model...\n"
     ]
    },
    {
     "name": "stderr",
     "output_type": "stream",
     "text": [
      "Epoch 9/30 [Train]: 100%|██████████| 36/36 [02:04<00:00,  3.45s/it]\n",
      "Epoch 9/30 [Val]: 100%|██████████| 5/5 [00:11<00:00,  2.21s/it]\n"
     ]
    },
    {
     "name": "stdout",
     "output_type": "stream",
     "text": [
      "Epoch 9/30 | Train Loss: 0.2794 | Val Loss: 0.7666 | Val Acc: 76.39%\n",
      "🎉 New best validation accuracy: 76.39%. Saving model...\n"
     ]
    },
    {
     "name": "stderr",
     "output_type": "stream",
     "text": [
      "Epoch 10/30 [Train]: 100%|██████████| 36/36 [02:00<00:00,  3.35s/it]\n",
      "Epoch 10/30 [Val]: 100%|██████████| 5/5 [00:10<00:00,  2.13s/it]\n"
     ]
    },
    {
     "name": "stdout",
     "output_type": "stream",
     "text": [
      "Epoch 10/30 | Train Loss: 0.2363 | Val Loss: 0.7255 | Val Acc: 74.31%\n"
     ]
    },
    {
     "name": "stderr",
     "output_type": "stream",
     "text": [
      "Epoch 11/30 [Train]: 100%|██████████| 36/36 [01:58<00:00,  3.30s/it]\n",
      "Epoch 11/30 [Val]: 100%|██████████| 5/5 [00:11<00:00,  2.23s/it]\n"
     ]
    },
    {
     "name": "stdout",
     "output_type": "stream",
     "text": [
      "Epoch 11/30 | Train Loss: 0.1935 | Val Loss: 0.7313 | Val Acc: 76.39%\n"
     ]
    },
    {
     "name": "stderr",
     "output_type": "stream",
     "text": [
      "Epoch 12/30 [Train]: 100%|██████████| 36/36 [02:00<00:00,  3.35s/it]\n",
      "Epoch 12/30 [Val]: 100%|██████████| 5/5 [00:10<00:00,  2.18s/it]\n"
     ]
    },
    {
     "name": "stdout",
     "output_type": "stream",
     "text": [
      "Epoch 12/30 | Train Loss: 0.1786 | Val Loss: 0.7641 | Val Acc: 74.31%\n"
     ]
    },
    {
     "name": "stderr",
     "output_type": "stream",
     "text": [
      "Epoch 13/30 [Train]: 100%|██████████| 36/36 [01:57<00:00,  3.27s/it]\n",
      "Epoch 13/30 [Val]: 100%|██████████| 5/5 [00:10<00:00,  2.19s/it]\n"
     ]
    },
    {
     "name": "stdout",
     "output_type": "stream",
     "text": [
      "Epoch 13/30 | Train Loss: 0.1883 | Val Loss: 0.7037 | Val Acc: 78.47%\n",
      "🎉 New best validation accuracy: 78.47%. Saving model...\n"
     ]
    },
    {
     "name": "stderr",
     "output_type": "stream",
     "text": [
      "Epoch 14/30 [Train]: 100%|██████████| 36/36 [02:01<00:00,  3.37s/it]\n",
      "Epoch 14/30 [Val]: 100%|██████████| 5/5 [00:11<00:00,  2.22s/it]\n"
     ]
    },
    {
     "name": "stdout",
     "output_type": "stream",
     "text": [
      "Epoch 14/30 | Train Loss: 0.1626 | Val Loss: 0.7451 | Val Acc: 75.69%\n"
     ]
    },
    {
     "name": "stderr",
     "output_type": "stream",
     "text": [
      "Epoch 15/30 [Train]: 100%|██████████| 36/36 [02:01<00:00,  3.38s/it]\n",
      "Epoch 15/30 [Val]: 100%|██████████| 5/5 [00:10<00:00,  2.02s/it]\n"
     ]
    },
    {
     "name": "stdout",
     "output_type": "stream",
     "text": [
      "Epoch 15/30 | Train Loss: 0.1371 | Val Loss: 0.7452 | Val Acc: 76.39%\n"
     ]
    },
    {
     "name": "stderr",
     "output_type": "stream",
     "text": [
      "Epoch 16/30 [Train]: 100%|██████████| 36/36 [02:00<00:00,  3.35s/it]\n",
      "Epoch 16/30 [Val]: 100%|██████████| 5/5 [00:10<00:00,  2.17s/it]\n"
     ]
    },
    {
     "name": "stdout",
     "output_type": "stream",
     "text": [
      "Epoch 16/30 | Train Loss: 0.1192 | Val Loss: 0.7403 | Val Acc: 77.08%\n"
     ]
    },
    {
     "name": "stderr",
     "output_type": "stream",
     "text": [
      "Epoch 17/30 [Train]: 100%|██████████| 36/36 [01:59<00:00,  3.33s/it]\n",
      "Epoch 17/30 [Val]: 100%|██████████| 5/5 [00:10<00:00,  2.17s/it]\n"
     ]
    },
    {
     "name": "stdout",
     "output_type": "stream",
     "text": [
      "Epoch 17/30 | Train Loss: 0.1137 | Val Loss: 0.7448 | Val Acc: 75.00%\n"
     ]
    },
    {
     "name": "stderr",
     "output_type": "stream",
     "text": [
      "Epoch 18/30 [Train]: 100%|██████████| 36/36 [01:59<00:00,  3.33s/it]\n",
      "Epoch 18/30 [Val]: 100%|██████████| 5/5 [00:09<00:00,  1.93s/it]\n"
     ]
    },
    {
     "name": "stdout",
     "output_type": "stream",
     "text": [
      "Epoch 18/30 | Train Loss: 0.1094 | Val Loss: 0.7508 | Val Acc: 77.08%\n"
     ]
    },
    {
     "name": "stderr",
     "output_type": "stream",
     "text": [
      "Epoch 19/30 [Train]: 100%|██████████| 36/36 [02:02<00:00,  3.41s/it]\n",
      "Epoch 19/30 [Val]: 100%|██████████| 5/5 [00:10<00:00,  2.16s/it]\n"
     ]
    },
    {
     "name": "stdout",
     "output_type": "stream",
     "text": [
      "Epoch 19/30 | Train Loss: 0.1202 | Val Loss: 0.7248 | Val Acc: 77.08%\n"
     ]
    },
    {
     "name": "stderr",
     "output_type": "stream",
     "text": [
      "Epoch 20/30 [Train]: 100%|██████████| 36/36 [01:54<00:00,  3.17s/it]\n",
      "Epoch 20/30 [Val]: 100%|██████████| 5/5 [00:10<00:00,  2.18s/it]\n"
     ]
    },
    {
     "name": "stdout",
     "output_type": "stream",
     "text": [
      "Epoch 20/30 | Train Loss: 0.0974 | Val Loss: 0.7409 | Val Acc: 76.39%\n"
     ]
    },
    {
     "name": "stderr",
     "output_type": "stream",
     "text": [
      "Epoch 21/30 [Train]: 100%|██████████| 36/36 [02:00<00:00,  3.36s/it]\n",
      "Epoch 21/30 [Val]: 100%|██████████| 5/5 [00:10<00:00,  2.12s/it]\n"
     ]
    },
    {
     "name": "stdout",
     "output_type": "stream",
     "text": [
      "Epoch 21/30 | Train Loss: 0.1217 | Val Loss: 0.7103 | Val Acc: 77.08%\n"
     ]
    },
    {
     "name": "stderr",
     "output_type": "stream",
     "text": [
      "Epoch 22/30 [Train]: 100%|██████████| 36/36 [02:07<00:00,  3.54s/it]\n",
      "Epoch 22/30 [Val]: 100%|██████████| 5/5 [00:10<00:00,  2.15s/it]\n"
     ]
    },
    {
     "name": "stdout",
     "output_type": "stream",
     "text": [
      "Epoch 22/30 | Train Loss: 0.1271 | Val Loss: 0.7356 | Val Acc: 75.69%\n"
     ]
    },
    {
     "name": "stderr",
     "output_type": "stream",
     "text": [
      "Epoch 23/30 [Train]: 100%|██████████| 36/36 [01:59<00:00,  3.31s/it]\n",
      "Epoch 23/30 [Val]: 100%|██████████| 5/5 [00:09<00:00,  1.80s/it]\n"
     ]
    },
    {
     "name": "stdout",
     "output_type": "stream",
     "text": [
      "Epoch 23/30 | Train Loss: 0.1022 | Val Loss: 0.7371 | Val Acc: 76.39%\n"
     ]
    },
    {
     "name": "stderr",
     "output_type": "stream",
     "text": [
      "Epoch 24/30 [Train]: 100%|██████████| 36/36 [01:58<00:00,  3.29s/it]\n",
      "Epoch 24/30 [Val]: 100%|██████████| 5/5 [00:10<00:00,  2.17s/it]\n"
     ]
    },
    {
     "name": "stdout",
     "output_type": "stream",
     "text": [
      "Epoch 24/30 | Train Loss: 0.1222 | Val Loss: 0.7298 | Val Acc: 77.08%\n"
     ]
    },
    {
     "name": "stderr",
     "output_type": "stream",
     "text": [
      "Epoch 25/30 [Train]: 100%|██████████| 36/36 [01:55<00:00,  3.22s/it]\n",
      "Epoch 25/30 [Val]: 100%|██████████| 5/5 [00:10<00:00,  2.15s/it]\n"
     ]
    },
    {
     "name": "stdout",
     "output_type": "stream",
     "text": [
      "Epoch 25/30 | Train Loss: 0.1040 | Val Loss: 0.7281 | Val Acc: 75.69%\n"
     ]
    },
    {
     "name": "stderr",
     "output_type": "stream",
     "text": [
      "Epoch 26/30 [Train]: 100%|██████████| 36/36 [02:00<00:00,  3.34s/it]\n",
      "Epoch 26/30 [Val]: 100%|██████████| 5/5 [00:10<00:00,  2.16s/it]\n"
     ]
    },
    {
     "name": "stdout",
     "output_type": "stream",
     "text": [
      "Epoch 26/30 | Train Loss: 0.1051 | Val Loss: 0.7417 | Val Acc: 76.39%\n"
     ]
    },
    {
     "name": "stderr",
     "output_type": "stream",
     "text": [
      "Epoch 27/30 [Train]: 100%|██████████| 36/36 [01:57<00:00,  3.26s/it]\n",
      "Epoch 27/30 [Val]: 100%|██████████| 5/5 [00:10<00:00,  2.14s/it]\n"
     ]
    },
    {
     "name": "stdout",
     "output_type": "stream",
     "text": [
      "Epoch 27/30 | Train Loss: 0.1072 | Val Loss: 0.7309 | Val Acc: 76.39%\n"
     ]
    },
    {
     "name": "stderr",
     "output_type": "stream",
     "text": [
      "Epoch 28/30 [Train]: 100%|██████████| 36/36 [02:00<00:00,  3.35s/it]\n",
      "Epoch 28/30 [Val]: 100%|██████████| 5/5 [00:10<00:00,  2.19s/it]\n"
     ]
    },
    {
     "name": "stdout",
     "output_type": "stream",
     "text": [
      "Epoch 28/30 | Train Loss: 0.1145 | Val Loss: 0.7475 | Val Acc: 75.69%\n"
     ]
    },
    {
     "name": "stderr",
     "output_type": "stream",
     "text": [
      "Epoch 29/30 [Train]: 100%|██████████| 36/36 [01:56<00:00,  3.23s/it]\n",
      "Epoch 29/30 [Val]: 100%|██████████| 5/5 [00:10<00:00,  2.14s/it]\n"
     ]
    },
    {
     "name": "stdout",
     "output_type": "stream",
     "text": [
      "Epoch 29/30 | Train Loss: 0.0920 | Val Loss: 0.7229 | Val Acc: 78.47%\n"
     ]
    },
    {
     "name": "stderr",
     "output_type": "stream",
     "text": [
      "Epoch 30/30 [Train]: 100%|██████████| 36/36 [01:58<00:00,  3.30s/it]\n",
      "Epoch 30/30 [Val]: 100%|██████████| 5/5 [00:09<00:00,  1.97s/it]\n"
     ]
    },
    {
     "name": "stdout",
     "output_type": "stream",
     "text": [
      "Epoch 30/30 | Train Loss: 0.1120 | Val Loss: 0.7147 | Val Acc: 77.08%\n",
      "\n",
      "--- FINAL EVALUATION ON RAVDESS TEST SET ---\n",
      "Loading best model from epoch with accuracy: 78.47%\n",
      "Final Model Accuracy on Test Set: 79.86%\n",
      "\n",
      "Classification Report:\n",
      "              precision    recall  f1-score   support\n",
      "\n",
      "     neutral       0.56      0.50      0.53        10\n",
      "        calm       0.82      0.74      0.78        19\n",
      "       happy       0.88      0.79      0.83        19\n",
      "         sad       0.58      0.79      0.67        19\n",
      "       angry       0.85      0.89      0.87        19\n",
      "     fearful       0.88      0.70      0.78        20\n",
      "     disgust       0.94      0.89      0.92        19\n",
      "    surprise       0.86      0.95      0.90        19\n",
      "\n",
      "    accuracy                           0.80       144\n",
      "   macro avg       0.80      0.78      0.78       144\n",
      "weighted avg       0.81      0.80      0.80       144\n",
      "\n"
     ]
    }
   ],
   "source": [
    "# --- This script trains the main ResNet18 model with augmentation and early stopping ---\n",
    "import torch, torch.nn as nn, torch.nn.functional as F\n",
    "from torch.utils.data import Dataset, DataLoader\n",
    "import os, numpy as np, librosa\n",
    "from sklearn.model_selection import train_test_split\n",
    "from sklearn.metrics import accuracy_score, classification_report\n",
    "from tqdm import tqdm\n",
    "from torch.optim.lr_scheduler import StepLR\n",
    "from torchvision import models\n",
    "from audiomentations import Compose, AddGaussianNoise, PitchShift\n",
    "\n",
    "# --- Configuration ---\n",
    "AUDIO_PATH = \"/content/drive/MyDrive/ser_project/ravdess_data/\"\n",
    "LEARNING_RATE = 0.001; BATCH_SIZE = 32; EPOCHS = 30\n",
    "CHECKPOINT_BEST_PATH = \"/content/drive/MyDrive/ser_project/resnet_best_augmented.pth\"\n",
    "device = torch.device(\"cuda\" if torch.cuda.is_available() else \"cpu\")\n",
    "print(f\"Using device: {device}\")\n",
    "\n",
    "# --- Mappings and Augmenter ---\n",
    "emotion_map = { \"01\": 0, \"02\": 1, \"03\": 2, \"04\": 3, \"05\": 4, \"06\": 5, \"07\": 6, \"08\": 7 }\n",
    "emotion_labels_list = [\"neutral\", \"calm\", \"happy\", \"sad\", \"angry\", \"fearful\", \"disgust\", \"surprise\"]\n",
    "augmenter = Compose([AddGaussianNoise(min_amplitude=0.001, max_amplitude=0.015, p=0.4), PitchShift(min_semitones=-4, max_semitones=4, p=0.4)])\n",
    "\n",
    "# --- Dataset for On-the-Fly Augmentation ---\n",
    "class AudioDataset(Dataset):\n",
    "    def __init__(self, file_paths, labels, target_width=300, augment=False):\n",
    "        self.file_paths = file_paths; self.labels = labels\n",
    "        self.target_width = target_width; self.augment = augment\n",
    "    def __len__(self): return len(self.file_paths)\n",
    "    def __getitem__(self, idx):\n",
    "        file_path = self.file_paths[idx]; label = self.labels[idx]\n",
    "        audio, sr = librosa.load(file_path, res_type='kaiser_fast', duration=3, sr=22050*2, offset=0.5)\n",
    "        if self.augment: audio = augmenter(samples=audio, sample_rate=sr)\n",
    "        spectrogram = librosa.feature.melspectrogram(y=audio, sr=sr, n_mels=128, fmax=8000)\n",
    "        db_spectrogram = librosa.power_to_db(spectrogram, ref=np.max)\n",
    "        current_width = db_spectrogram.shape[1]\n",
    "        if current_width < self.target_width: db_spectrogram = np.pad(db_spectrogram, ((0, 0), (0, self.target_width - current_width)), mode='constant')\n",
    "        elif current_width > self.target_width: db_spectrogram = db_spectrogram[:, :self.target_width]\n",
    "        spec_min, spec_max = db_spectrogram.min(), db_spectrogram.max()\n",
    "        if spec_max > spec_min: db_spectrogram = (db_spectrogram - spec_min) / (spec_max - spec_min)\n",
    "        spectrogram_3ch = np.stack([db_spectrogram, db_spectrogram, db_spectrogram], axis=0)\n",
    "        return torch.tensor(spectrogram_3ch, dtype=torch.float32), torch.tensor(label, dtype=torch.long)\n",
    "\n",
    "# --- Prepare Data ---\n",
    "all_files = []; all_labels = []\n",
    "for root, dirs, files in os.walk(AUDIO_PATH):\n",
    "    for file in files:\n",
    "        if file.endswith('.wav'): all_files.append(os.path.join(root, file))\n",
    "all_labels = [emotion_map[os.path.basename(f).split(\"-\")[2]] for f in all_files]\n",
    "train_files, temp_files, train_labels, temp_labels = train_test_split(all_files, all_labels, test_size=0.2, random_state=42, stratify=all_labels)\n",
    "val_files, test_files, val_labels, test_labels = train_test_split(temp_files, temp_labels, test_size=0.5, random_state=42, stratify=temp_labels)\n",
    "train_dataset = AudioDataset(train_files, train_labels, augment=True)\n",
    "val_dataset = AudioDataset(val_files, val_labels, augment=False)\n",
    "test_dataset = AudioDataset(test_files, test_labels, augment=False)\n",
    "train_loader = DataLoader(train_dataset, batch_size=BATCH_SIZE, shuffle=True); val_loader = DataLoader(val_dataset, batch_size=BATCH_SIZE, shuffle=False); test_loader = DataLoader(test_dataset, batch_size=BATCH_SIZE, shuffle=False)\n",
    "\n",
    "# --- Initialize Model and Optimizer ---\n",
    "model = models.resnet18(weights='IMAGENET1K_V1'); model.fc = nn.Linear(model.fc.in_features, len(emotion_labels_list)); model = model.to(device)\n",
    "optimizer = torch.optim.Adam(model.parameters(), lr=LEARNING_RATE); criterion = nn.CrossEntropyLoss(); scheduler = StepLR(optimizer, step_size=7, gamma=0.1)\n",
    "\n",
    "# --- Training Loop with Early Stopping ---\n",
    "best_val_acc = 0.0\n",
    "print(\"Starting main training with augmentation and early stopping...\")\n",
    "for epoch in range(EPOCHS):\n",
    "    model.train(); running_loss = 0.0\n",
    "    for inputs, labels in tqdm(train_loader, desc=f\"Epoch {epoch+1}/{EPOCHS} [Train]\"):\n",
    "        inputs, labels = inputs.to(device), labels.to(device)\n",
    "        optimizer.zero_grad(); outputs = model(inputs); loss = criterion(outputs, labels)\n",
    "        loss.backward(); optimizer.step(); running_loss += loss.item() * inputs.size(0)\n",
    "    train_loss = running_loss / len(train_dataset)\n",
    "\n",
    "    model.eval(); val_loss = 0.0; correct = 0; total = 0\n",
    "    with torch.no_grad():\n",
    "        for inputs, labels in tqdm(val_loader, desc=f\"Epoch {epoch+1}/{EPOCHS} [Val]\"):\n",
    "            inputs, labels = inputs.to(device), labels.to(device)\n",
    "            outputs = model(inputs); loss = criterion(outputs, labels); val_loss += loss.item() * inputs.size(0)\n",
    "            _, predicted = torch.max(outputs.data, 1); total += labels.size(0); correct += (predicted == labels).sum().item()\n",
    "    val_accuracy = 100 * correct / total; val_loss /= len(val_dataset)\n",
    "    print(f\"Epoch {epoch+1}/{EPOCHS} | Train Loss: {train_loss:.4f} | Val Loss: {val_loss:.4f} | Val Acc: {val_accuracy:.2f}%\")\n",
    "\n",
    "    if val_accuracy > best_val_acc:\n",
    "        best_val_acc = val_accuracy\n",
    "        print(f\"🎉 New best validation accuracy: {best_val_acc:.2f}%. Saving model...\")\n",
    "        torch.save({'epoch': epoch + 1, 'model_state_dict': model.state_dict()}, CHECKPOINT_BEST_PATH)\n",
    "    scheduler.step()\n",
    "\n",
    "# --- Final Evaluation on Test Set ---\n",
    "print(\"\\n--- FINAL EVALUATION ON RAVDESS TEST SET ---\")\n",
    "print(f\"Loading best model from epoch with accuracy: {best_val_acc:.2f}%\")\n",
    "best_checkpoint = torch.load(CHECKPOINT_BEST_PATH); model.load_state_dict(best_checkpoint['model_state_dict']); model.eval()\n",
    "all_preds = []; all_true = []\n",
    "with torch.no_grad():\n",
    "    for inputs, labels in test_loader:\n",
    "        inputs, labels = inputs.to(device), labels.to(device)\n",
    "        outputs = model(inputs); _, preds = torch.max(outputs, 1); all_preds.extend(preds.cpu().numpy()); all_true.extend(labels.cpu().numpy())\n",
    "accuracy = accuracy_score(all_true, all_preds)\n",
    "print(f\"Final Model Accuracy on Test Set: {accuracy * 100:.2f}%\")\n",
    "print(\"\\nClassification Report:\"); print(classification_report(all_true, all_preds, target_names=emotion_labels_list, zero_division=0))"
   ]
  },
  {
   "cell_type": "markdown",
   "metadata": {},
   "source": [
    "## Part 2: Gender Bias Analysis\n",
    "\n",
    "This is the core contribution of this notebook. We take the test set predictions from our re-trained Specialist Model and analyze them based on speaker gender. The RAVDESS dataset's file naming convention (odd-numbered actors are male, even-numbered are female) allows us to perform this split. We calculate separate accuracy scores and generate individual confusion matrices to visually inspect the model's error patterns for each group."
   ]
  },
  {
   "cell_type": "code",
   "execution_count": 4,
   "metadata": {
    "colab": {
     "base_uri": "https://localhost:8080/",
     "height": 1000
    },
    "executionInfo": {
     "elapsed": 11259,
     "status": "ok",
     "timestamp": 1756761180030,
     "user": {
      "displayName": "Monsur Abdullah",
      "userId": "12726162145146472590"
     },
     "user_tz": -360
    },
    "id": "beQPEQX0vhA1",
    "outputId": "9ac14540-5071-4869-e3d7-d98668589ceb"
   },
   "outputs": [
    {
     "name": "stdout",
     "output_type": "stream",
     "text": [
      "Using device: cuda\n",
      "Recreating the test set to ensure consistency...\n",
      "Test set successfully recreated.\n",
      "Loading best model and running predictions on the test set...\n"
     ]
    },
    {
     "name": "stderr",
     "output_type": "stream",
     "text": [
      "Predicting: 100%|██████████| 5/5 [00:09<00:00,  1.88s/it]\n"
     ]
    },
    {
     "name": "stdout",
     "output_type": "stream",
     "text": [
      "Labeling test data by speaker gender...\n",
      "\n",
      "--- GENDER-BASED PERFORMANCE ANALYSIS ---\n",
      "Accuracy for Male Speakers: 80.88% (68 samples)\n",
      "Accuracy for Female Speakers: 78.95% (76 samples)\n",
      "\n",
      "Generating confusion matrices...\n"
     ]
    },
    {
     "data": {
      "image/png": "[encoded data removed]",
      "text/plain": [
       "<Figure size 2000x800 with 4 Axes>"
      ]
     },
     "metadata": {},
     "output_type": "display_data"
    }
   ],
   "source": [
    "import torch\n",
    "import torch.nn as nn\n",
    "from torchvision import models\n",
    "from torch.utils.data import Dataset, DataLoader\n",
    "import pandas as pd\n",
    "import numpy as np\n",
    "import os\n",
    "from sklearn.model_selection import train_test_split\n",
    "from sklearn.metrics import accuracy_score, confusion_matrix, classification_report\n",
    "import seaborn as sns\n",
    "import matplotlib.pyplot as plt\n",
    "import librosa\n",
    "\n",
    "# --- Configuration ---\n",
    "CHECKPOINT_BEST_PATH = \"/content/drive/MyDrive/ser_project/resnet_best_augmented.pth\"\n",
    "AUDIO_PATH = \"/content/drive/MyDrive/ser_project/ravdess_data/\" # Needed to get file list\n",
    "BATCH_SIZE = 32\n",
    "\n",
    "device = torch.device(\"cuda\" if torch.cuda.is_available() else \"cpu\")\n",
    "print(f\"Using device: {device}\")\n",
    "\n",
    "# --- Mappings ---\n",
    "emotion_map = { \"01\": 0, \"02\": 1, \"03\": 2, \"04\": 3, \"05\": 4, \"06\": 5, \"07\": 6, \"08\": 7 }\n",
    "emotion_labels_list = [\"neutral\", \"calm\", \"happy\", \"sad\", \"angry\", \"fearful\", \"disgust\", \"surprise\"]\n",
    "\n",
    "# --- IMPORTANT: We need the AudioDataset class definition to load our data ---\n",
    "class AudioDataset(Dataset):\n",
    "    def __init__(self, file_paths, labels, target_width=300, augment=False):\n",
    "        self.file_paths = file_paths; self.labels = labels\n",
    "        self.target_width = target_width; self.augment = augment\n",
    "    def __len__(self): return len(self.file_paths)\n",
    "    def __getitem__(self, idx):\n",
    "        file_path = self.file_paths[idx]; label = self.labels[idx]\n",
    "        audio, sr = librosa.load(file_path, res_type='kaiser_fast', duration=3, sr=22050*2, offset=0.5)\n",
    "        # Note: No augmentation during evaluation\n",
    "        spectrogram = librosa.feature.melspectrogram(y=audio, sr=sr, n_mels=128, fmax=8000)\n",
    "        db_spectrogram = librosa.power_to_db(spectrogram, ref=np.max)\n",
    "        current_width = db_spectrogram.shape[1]\n",
    "        if current_width < self.target_width: db_spectrogram = np.pad(db_spectrogram, ((0, 0), (0, self.target_width - current_width)), mode='constant')\n",
    "        elif current_width > self.target_width: db_spectrogram = db_spectrogram[:, :self.target_width]\n",
    "        spec_min, spec_max = db_spectrogram.min(), db_spectrogram.max()\n",
    "        if spec_max > spec_min: db_spectrogram = (db_spectrogram - spec_min) / (spec_max - spec_min)\n",
    "        spectrogram_3ch = np.stack([db_spectrogram, db_spectrogram, db_spectrogram], axis=0)\n",
    "        return torch.tensor(spectrogram_3ch, dtype=torch.float32), torch.tensor(label, dtype=torch.long)\n",
    "\n",
    "# --- Step 1: Recreate the exact same test set split ---\n",
    "print(\"Recreating the test set to ensure consistency...\")\n",
    "all_files = []; all_labels = []\n",
    "for root, dirs, files in os.walk(AUDIO_PATH):\n",
    "    for file in files:\n",
    "        if file.endswith('.wav'): all_files.append(os.path.join(root, file))\n",
    "all_labels = [emotion_map[os.path.basename(f).split(\"-\")[2]] for f in all_files]\n",
    "\n",
    "# We use the same test_size and random_state to get the identical split\n",
    "train_files, temp_files, train_labels, temp_labels = train_test_split(all_files, all_labels, test_size=0.2, random_state=42, stratify=all_labels)\n",
    "val_files, test_files, val_labels, test_labels = train_test_split(temp_files, temp_labels, test_size=0.5, random_state=42, stratify=temp_labels)\n",
    "\n",
    "test_dataset = AudioDataset(test_files, test_labels, augment=False)\n",
    "test_loader = DataLoader(test_dataset, batch_size=BATCH_SIZE, shuffle=False)\n",
    "print(\"Test set successfully recreated.\")\n",
    "\n",
    "# --- Step 2: Load Model and Run Predictions ---\n",
    "print(\"Loading best model and running predictions on the test set...\")\n",
    "model = models.resnet18(); model.fc = nn.Linear(model.fc.in_features, len(emotion_labels_list));\n",
    "best_checkpoint = torch.load(CHECKPOINT_BEST_PATH); model.load_state_dict(best_checkpoint['model_state_dict']);\n",
    "model = model.to(device); model.eval()\n",
    "\n",
    "all_preds = []; all_true = []\n",
    "with torch.no_grad():\n",
    "    for inputs, labels in tqdm(test_loader, desc=\"Predicting\"):\n",
    "        inputs, labels = inputs.to(device), labels.to(device)\n",
    "        outputs = model(inputs); _, preds = torch.max(outputs, 1)\n",
    "        all_preds.extend(preds.cpu().numpy()); all_true.extend(labels.cpu().numpy())\n",
    "\n",
    "# --- Step 3: Label Data by Gender ---\n",
    "print(\"Labeling test data by speaker gender...\")\n",
    "results = []\n",
    "for i in range(len(test_files)):\n",
    "    file_path = test_files[i]\n",
    "    actor_id = int(os.path.basename(file_path).split(\"-\")[6].split(\".\")[0])\n",
    "    gender = \"female\" if actor_id % 2 == 0 else \"male\"\n",
    "    results.append({\n",
    "        'true_label': emotion_labels_list[all_true[i]],\n",
    "        'predicted_label': emotion_labels_list[all_preds[i]],\n",
    "        'gender': gender\n",
    "    })\n",
    "df = pd.DataFrame(results)\n",
    "\n",
    "# --- Step 4: Analyze Performance ---\n",
    "print(\"\\n--- GENDER-BASED PERFORMANCE ANALYSIS ---\")\n",
    "male_df = df[df['gender'] == 'male']; female_df = df[df['gender'] == 'female']\n",
    "male_accuracy = accuracy_score(male_df['true_label'], male_df['predicted_label'])\n",
    "female_accuracy = accuracy_score(female_df['true_label'], female_df['predicted_label'])\n",
    "print(f\"Accuracy for Male Speakers: {male_accuracy * 100:.2f}% ({len(male_df)} samples)\")\n",
    "print(f\"Accuracy for Female Speakers: {female_accuracy * 100:.2f}% ({len(female_df)} samples)\")\n",
    "\n",
    "# --- Step 5: Visualize the Bias ---\n",
    "print(\"\\nGenerating confusion matrices...\")\n",
    "fig, axes = plt.subplots(1, 2, figsize=(20, 8)); fig.suptitle('Gender-Based Confusion Matrices', fontsize=24)\n",
    "cm_male = confusion_matrix(male_df['true_label'], male_df['predicted_label'], labels=emotion_labels_list)\n",
    "sns.heatmap(cm_male, annot=True, fmt='d', xticklabels=emotion_labels_list, yticklabels=emotion_labels_list, ax=axes[0], cmap='Blues')\n",
    "axes[0].set_title('Male Speakers', fontsize=18); axes[0].set_xlabel('Predicted Label', fontsize=14); axes[0].set_ylabel('True Label', fontsize=14)\n",
    "cm_female = confusion_matrix(female_df['true_label'], female_df['predicted_label'], labels=emotion_labels_list)\n",
    "sns.heatmap(cm_female, annot=True, fmt='d', xticklabels=emotion_labels_list, yticklabels=emotion_labels_list, ax=axes[1], cmap='Blues')\n",
    "axes[1].set_title('Female Speakers', fontsize=18); axes[1].set_xlabel('Predicted Label', fontsize=14); axes[1].set_ylabel('True Label', fontsize=14)\n",
    "plt.tight_layout(rect=[0, 0, 1, 0.96]); plt.show()"
   ]
  },
  {
   "cell_type": "markdown",
   "metadata": {},
   "source": [
    "## Part 3: Re-confirming the Domain Gap"
   ]
  },
  {
   "cell_type": "code",
   "execution_count": 5,
   "metadata": {
    "colab": {
     "base_uri": "https://localhost:8080/"
    },
    "executionInfo": {
     "elapsed": 749373,
     "status": "ok",
     "timestamp": 1756761936130,
     "user": {
      "displayName": "Monsur Abdullah",
      "userId": "12726162145146472590"
     },
     "user_tz": -360
    },
    "id": "3fUqwPHhvplo",
    "outputId": "c2a53f10-09d5-4e19-bb3f-1a1be28e6bab"
   },
   "outputs": [
    {
     "name": "stdout",
     "output_type": "stream",
     "text": [
      "\n",
      "Starting audio to spectrogram conversion for CREMA-D...\n"
     ]
    },
    {
     "name": "stderr",
     "output_type": "stream",
     "text": [
      "Processing CREMA-D: 100%|██████████| 7442/7442 [10:17<00:00, 12.05it/s]\n"
     ]
    },
    {
     "name": "stdout",
     "output_type": "stream",
     "text": [
      "\n",
      "CREMA-D spectrogram conversion complete.\n",
      "\n",
      "Loading best model for cross-corpus evaluation...\n",
      "\n",
      "--- EVALUATION ON CREMA-D DATASET ---\n"
     ]
    },
    {
     "name": "stderr",
     "output_type": "stream",
     "text": [
      "Evaluating on CREMA-D: 100%|██████████| 233/233 [01:46<00:00,  2.19it/s]"
     ]
    },
    {
     "name": "stdout",
     "output_type": "stream",
     "text": [
      "Final Model Accuracy on CREMA-D: 23.85%\n",
      "\n",
      "Classification Report:\n",
      "              precision    recall  f1-score   support\n",
      "\n",
      "     neutral       0.49      0.07      0.13      1087\n",
      "       happy       0.23      0.04      0.06      1271\n",
      "         sad       0.25      0.46      0.32      1271\n",
      "       angry       0.67      0.13      0.22      1271\n",
      "     fearful       0.24      0.54      0.34      1271\n",
      "     disgust       0.44      0.17      0.25      1271\n",
      "\n",
      "   micro avg       0.28      0.24      0.26      7442\n",
      "   macro avg       0.39      0.23      0.22      7442\n",
      "weighted avg       0.39      0.24      0.22      7442\n",
      "\n"
     ]
    },
    {
     "name": "stderr",
     "output_type": "stream",
     "text": [
      "\n"
     ]
    }
   ],
   "source": [
    "# --- This cell tests the best model on the CREMA-D dataset ---\n",
    "# Make sure you have uploaded and unzipped CREMA-D to this path\n",
    "CREMA_D_AUDIO_PATH = \"/content/drive/MyDrive/ser_project/crema_d_data/AudioWAV/\"\n",
    "CREMA_D_SPECTROGRAM_PATH = \"/content/drive/MyDrive/ser_project/crema_d_spectrograms/\"\n",
    "CHECKPOINT_BEST_PATH = \"/content/drive/MyDrive/ser_project/resnet_best_augmented.pth\"\n",
    "\n",
    "# === PART A: PREPROCESS CREMA-D ===\n",
    "os.makedirs(CREMA_D_SPECTROGRAM_PATH, exist_ok=True)\n",
    "print(\"\\nStarting audio to spectrogram conversion for CREMA-D...\")\n",
    "crema_d_files_to_process = [f for f in os.listdir(CREMA_D_AUDIO_PATH) if f.endswith('.wav')]\n",
    "for file_name in tqdm(crema_d_files_to_process, desc=\"Processing CREMA-D\"):\n",
    "    try:\n",
    "        file_path = os.path.join(CREMA_D_AUDIO_PATH, file_name)\n",
    "        audio, sr = librosa.load(file_path, res_type='kaiser_fast', duration=3, sr=22050*2, offset=0.5)\n",
    "        spectrogram = librosa.feature.melspectrogram(y=audio, sr=sr, n_mels=128, fmax=8000)\n",
    "        db_spectrogram = librosa.power_to_db(spectrogram, ref=np.max)\n",
    "        output_filename = os.path.join(CREMA_D_SPECTROGRAM_PATH, f\"{os.path.splitext(file_name)[0]}.npy\")\n",
    "        np.save(output_filename, db_spectrogram)\n",
    "    except Exception as e:\n",
    "        print(f\"\\nError processing {file_path}: {e}\")\n",
    "print(\"\\nCREMA-D spectrogram conversion complete.\")\n",
    "\n",
    "# === PART B: EVALUATE ON CREMA-D ===\n",
    "# --- Mappings and Dataset ---\n",
    "crema_d_emotion_map = { \"NEU\": 0, \"HAP\": 2, \"SAD\": 3, \"ANG\": 4, \"FEA\": 5, \"DIS\": 6 }\n",
    "# Note: We are mapping to the original 8-class indices that the model was trained on\n",
    "class CremaDDataset(Dataset):\n",
    "    def __init__(self, file_paths, labels, target_width=300):\n",
    "        self.file_paths, self.labels, self.target_width = file_paths, labels, target_width\n",
    "    def __len__(self): return len(self.file_paths)\n",
    "    def __getitem__(self, idx):\n",
    "        spectrogram = np.load(self.file_paths[idx]); label = self.labels[idx]\n",
    "        current_width = spectrogram.shape[1]\n",
    "        if current_width < self.target_width: spectrogram = np.pad(spectrogram, ((0, 0), (0, self.target_width - current_width)), mode='constant')\n",
    "        elif current_width > self.target_width: spectrogram = spectrogram[:, :self.target_width]\n",
    "        spec_min, spec_max = spectrogram.min(), spectrogram.max()\n",
    "        if spec_max > spec_min: spectrogram = (spectrogram - spec_min) / (spec_max - spec_min)\n",
    "        spectrogram_3ch = np.stack([spectrogram, spectrogram, spectrogram], axis=0)\n",
    "        return torch.tensor(spectrogram_3ch, dtype=torch.float32), torch.tensor(label, dtype=torch.long)\n",
    "\n",
    "crema_d_files = [os.path.join(CREMA_D_SPECTROGRAM_PATH, f) for f in os.listdir(CREMA_D_SPECTROGRAM_PATH) if f.endswith('.npy')]\n",
    "crema_d_labels = [crema_d_emotion_map[os.path.basename(f).split(\"_\")[2]] for f in crema_d_files]\n",
    "test_dataset = CremaDDataset(crema_d_files, crema_d_labels)\n",
    "test_loader = DataLoader(test_dataset, batch_size=BATCH_SIZE, shuffle=False)\n",
    "\n",
    "# --- Load Model and Evaluate ---\n",
    "print(\"\\nLoading best model for cross-corpus evaluation...\")\n",
    "model = models.resnet18(); model.fc = nn.Linear(model.fc.in_features, 8);\n",
    "best_checkpoint = torch.load(CHECKPOINT_BEST_PATH); model.load_state_dict(best_checkpoint['model_state_dict']); model = model.to(device); model.eval()\n",
    "print(\"\\n--- EVALUATION ON CREMA-D DATASET ---\")\n",
    "all_preds, all_true = [], []\n",
    "with torch.no_grad():\n",
    "    for inputs, labels in tqdm(test_loader, desc=\"Evaluating on CREMA-D\"):\n",
    "        inputs, labels = inputs.to(device), labels.to(device)\n",
    "        outputs = model(inputs); _, preds = torch.max(outputs, 1); all_preds.extend(preds.cpu().numpy()); all_true.extend(labels.cpu().numpy())\n",
    "accuracy = accuracy_score(all_true, all_preds)\n",
    "print(f\"Final Model Accuracy on CREMA-D: {accuracy * 100:.2f}%\")\n",
    "report_labels_indices = sorted(list(set(crema_d_labels))); report_labels_names = [emotion_labels_list[i] for i in report_labels_indices]\n",
    "print(\"\\nClassification Report:\"); print(classification_report(all_true, all_preds, labels=report_labels_indices, target_names=report_labels_names, zero_division=0))"
   ]
  },
  {
   "cell_type": "markdown",
   "metadata": {},
   "source": [
    "## Part 4: Re-confirming the Failure of Distillation From Phase-02"
   ]
  },
  {
   "cell_type": "code",
   "execution_count": 6,
   "metadata": {
    "colab": {
     "base_uri": "https://localhost:8080/"
    },
    "executionInfo": {
     "elapsed": 302545,
     "status": "ok",
     "timestamp": 1756762244712,
     "user": {
      "displayName": "Monsur Abdullah",
      "userId": "12726162145146472590"
     },
     "user_tz": -360
    },
    "id": "0aC2ogRvv3LV",
    "outputId": "31e72656-a038-4038-e808-e1ba154a8c67"
   },
   "outputs": [
    {
     "name": "stdout",
     "output_type": "stream",
     "text": [
      "Using device: cuda\n",
      "Loading Teacher model (ResNet18)...\n",
      "Initializing Student model (AudioCNN)...\n",
      "Starting distillation training...\n"
     ]
    },
    {
     "name": "stderr",
     "output_type": "stream",
     "text": [
      "Epoch 1/50: 100%|██████████| 36/36 [00:16<00:00,  2.15it/s]\n"
     ]
    },
    {
     "name": "stdout",
     "output_type": "stream",
     "text": [
      "Epoch 1/50 - Distillation Loss: 12.4701\n"
     ]
    },
    {
     "name": "stderr",
     "output_type": "stream",
     "text": [
      "Epoch 2/50: 100%|██████████| 36/36 [00:05<00:00,  6.07it/s]\n"
     ]
    },
    {
     "name": "stdout",
     "output_type": "stream",
     "text": [
      "Epoch 2/50 - Distillation Loss: 7.1171\n"
     ]
    },
    {
     "name": "stderr",
     "output_type": "stream",
     "text": [
      "Epoch 3/50: 100%|██████████| 36/36 [00:05<00:00,  6.15it/s]\n"
     ]
    },
    {
     "name": "stdout",
     "output_type": "stream",
     "text": [
      "Epoch 3/50 - Distillation Loss: 7.0965\n"
     ]
    },
    {
     "name": "stderr",
     "output_type": "stream",
     "text": [
      "Epoch 4/50: 100%|██████████| 36/36 [00:05<00:00,  6.43it/s]\n"
     ]
    },
    {
     "name": "stdout",
     "output_type": "stream",
     "text": [
      "Epoch 4/50 - Distillation Loss: 7.0792\n"
     ]
    },
    {
     "name": "stderr",
     "output_type": "stream",
     "text": [
      "Epoch 5/50: 100%|██████████| 36/36 [00:05<00:00,  6.27it/s]\n"
     ]
    },
    {
     "name": "stdout",
     "output_type": "stream",
     "text": [
      "Epoch 5/50 - Distillation Loss: 7.0643\n"
     ]
    },
    {
     "name": "stderr",
     "output_type": "stream",
     "text": [
      "Epoch 6/50: 100%|██████████| 36/36 [00:05<00:00,  6.50it/s]\n"
     ]
    },
    {
     "name": "stdout",
     "output_type": "stream",
     "text": [
      "Epoch 6/50 - Distillation Loss: 7.0522\n"
     ]
    },
    {
     "name": "stderr",
     "output_type": "stream",
     "text": [
      "Epoch 7/50: 100%|██████████| 36/36 [00:05<00:00,  6.34it/s]\n"
     ]
    },
    {
     "name": "stdout",
     "output_type": "stream",
     "text": [
      "Epoch 7/50 - Distillation Loss: 7.0429\n"
     ]
    },
    {
     "name": "stderr",
     "output_type": "stream",
     "text": [
      "Epoch 8/50: 100%|██████████| 36/36 [00:05<00:00,  6.37it/s]\n"
     ]
    },
    {
     "name": "stdout",
     "output_type": "stream",
     "text": [
      "Epoch 8/50 - Distillation Loss: 7.0352\n"
     ]
    },
    {
     "name": "stderr",
     "output_type": "stream",
     "text": [
      "Epoch 9/50: 100%|██████████| 36/36 [00:05<00:00,  6.03it/s]\n"
     ]
    },
    {
     "name": "stdout",
     "output_type": "stream",
     "text": [
      "Epoch 9/50 - Distillation Loss: 7.0297\n"
     ]
    },
    {
     "name": "stderr",
     "output_type": "stream",
     "text": [
      "Epoch 10/50: 100%|██████████| 36/36 [00:05<00:00,  6.06it/s]\n"
     ]
    },
    {
     "name": "stdout",
     "output_type": "stream",
     "text": [
      "Epoch 10/50 - Distillation Loss: 7.0253\n"
     ]
    },
    {
     "name": "stderr",
     "output_type": "stream",
     "text": [
      "Epoch 11/50: 100%|██████████| 36/36 [00:05<00:00,  6.34it/s]\n"
     ]
    },
    {
     "name": "stdout",
     "output_type": "stream",
     "text": [
      "Epoch 11/50 - Distillation Loss: 7.0209\n"
     ]
    },
    {
     "name": "stderr",
     "output_type": "stream",
     "text": [
      "Epoch 12/50: 100%|██████████| 36/36 [00:06<00:00,  5.26it/s]\n"
     ]
    },
    {
     "name": "stdout",
     "output_type": "stream",
     "text": [
      "Epoch 12/50 - Distillation Loss: 7.0183\n"
     ]
    },
    {
     "name": "stderr",
     "output_type": "stream",
     "text": [
      "Epoch 13/50: 100%|██████████| 36/36 [00:05<00:00,  6.28it/s]\n"
     ]
    },
    {
     "name": "stdout",
     "output_type": "stream",
     "text": [
      "Epoch 13/50 - Distillation Loss: 7.0160\n"
     ]
    },
    {
     "name": "stderr",
     "output_type": "stream",
     "text": [
      "Epoch 14/50: 100%|██████████| 36/36 [00:05<00:00,  6.20it/s]\n"
     ]
    },
    {
     "name": "stdout",
     "output_type": "stream",
     "text": [
      "Epoch 14/50 - Distillation Loss: 7.0137\n"
     ]
    },
    {
     "name": "stderr",
     "output_type": "stream",
     "text": [
      "Epoch 15/50: 100%|██████████| 36/36 [00:05<00:00,  6.42it/s]\n"
     ]
    },
    {
     "name": "stdout",
     "output_type": "stream",
     "text": [
      "Epoch 15/50 - Distillation Loss: 7.0127\n"
     ]
    },
    {
     "name": "stderr",
     "output_type": "stream",
     "text": [
      "Epoch 16/50: 100%|██████████| 36/36 [00:05<00:00,  6.19it/s]\n"
     ]
    },
    {
     "name": "stdout",
     "output_type": "stream",
     "text": [
      "Epoch 16/50 - Distillation Loss: 7.0116\n"
     ]
    },
    {
     "name": "stderr",
     "output_type": "stream",
     "text": [
      "Epoch 17/50: 100%|██████████| 36/36 [00:05<00:00,  6.34it/s]\n"
     ]
    },
    {
     "name": "stdout",
     "output_type": "stream",
     "text": [
      "Epoch 17/50 - Distillation Loss: 7.0107\n"
     ]
    },
    {
     "name": "stderr",
     "output_type": "stream",
     "text": [
      "Epoch 18/50: 100%|██████████| 36/36 [00:05<00:00,  6.27it/s]\n"
     ]
    },
    {
     "name": "stdout",
     "output_type": "stream",
     "text": [
      "Epoch 18/50 - Distillation Loss: 7.0102\n"
     ]
    },
    {
     "name": "stderr",
     "output_type": "stream",
     "text": [
      "Epoch 19/50: 100%|██████████| 36/36 [00:05<00:00,  6.38it/s]\n"
     ]
    },
    {
     "name": "stdout",
     "output_type": "stream",
     "text": [
      "Epoch 19/50 - Distillation Loss: 7.0093\n"
     ]
    },
    {
     "name": "stderr",
     "output_type": "stream",
     "text": [
      "Epoch 20/50: 100%|██████████| 36/36 [00:05<00:00,  6.11it/s]\n"
     ]
    },
    {
     "name": "stdout",
     "output_type": "stream",
     "text": [
      "Epoch 20/50 - Distillation Loss: 7.0093\n"
     ]
    },
    {
     "name": "stderr",
     "output_type": "stream",
     "text": [
      "Epoch 21/50: 100%|██████████| 36/36 [00:05<00:00,  6.17it/s]\n"
     ]
    },
    {
     "name": "stdout",
     "output_type": "stream",
     "text": [
      "Epoch 21/50 - Distillation Loss: 7.0087\n"
     ]
    },
    {
     "name": "stderr",
     "output_type": "stream",
     "text": [
      "Epoch 22/50: 100%|██████████| 36/36 [00:05<00:00,  6.23it/s]\n"
     ]
    },
    {
     "name": "stdout",
     "output_type": "stream",
     "text": [
      "Epoch 22/50 - Distillation Loss: 7.0086\n"
     ]
    },
    {
     "name": "stderr",
     "output_type": "stream",
     "text": [
      "Epoch 23/50: 100%|██████████| 36/36 [00:05<00:00,  6.20it/s]\n"
     ]
    },
    {
     "name": "stdout",
     "output_type": "stream",
     "text": [
      "Epoch 23/50 - Distillation Loss: 7.0082\n"
     ]
    },
    {
     "name": "stderr",
     "output_type": "stream",
     "text": [
      "Epoch 24/50: 100%|██████████| 36/36 [00:05<00:00,  6.40it/s]\n"
     ]
    },
    {
     "name": "stdout",
     "output_type": "stream",
     "text": [
      "Epoch 24/50 - Distillation Loss: 7.0090\n"
     ]
    },
    {
     "name": "stderr",
     "output_type": "stream",
     "text": [
      "Epoch 25/50: 100%|██████████| 36/36 [00:05<00:00,  6.22it/s]\n"
     ]
    },
    {
     "name": "stdout",
     "output_type": "stream",
     "text": [
      "Epoch 25/50 - Distillation Loss: 7.0078\n"
     ]
    },
    {
     "name": "stderr",
     "output_type": "stream",
     "text": [
      "Epoch 26/50: 100%|██████████| 36/36 [00:05<00:00,  6.28it/s]\n"
     ]
    },
    {
     "name": "stdout",
     "output_type": "stream",
     "text": [
      "Epoch 26/50 - Distillation Loss: 7.0082\n"
     ]
    },
    {
     "name": "stderr",
     "output_type": "stream",
     "text": [
      "Epoch 27/50: 100%|██████████| 36/36 [00:05<00:00,  6.18it/s]\n"
     ]
    },
    {
     "name": "stdout",
     "output_type": "stream",
     "text": [
      "Epoch 27/50 - Distillation Loss: 7.0090\n"
     ]
    },
    {
     "name": "stderr",
     "output_type": "stream",
     "text": [
      "Epoch 28/50: 100%|██████████| 36/36 [00:05<00:00,  6.24it/s]\n"
     ]
    },
    {
     "name": "stdout",
     "output_type": "stream",
     "text": [
      "Epoch 28/50 - Distillation Loss: 7.0085\n"
     ]
    },
    {
     "name": "stderr",
     "output_type": "stream",
     "text": [
      "Epoch 29/50: 100%|██████████| 36/36 [00:05<00:00,  6.27it/s]\n"
     ]
    },
    {
     "name": "stdout",
     "output_type": "stream",
     "text": [
      "Epoch 29/50 - Distillation Loss: 7.0081\n"
     ]
    },
    {
     "name": "stderr",
     "output_type": "stream",
     "text": [
      "Epoch 30/50: 100%|██████████| 36/36 [00:05<00:00,  6.14it/s]\n"
     ]
    },
    {
     "name": "stdout",
     "output_type": "stream",
     "text": [
      "Epoch 30/50 - Distillation Loss: 7.0080\n"
     ]
    },
    {
     "name": "stderr",
     "output_type": "stream",
     "text": [
      "Epoch 31/50: 100%|██████████| 36/36 [00:05<00:00,  6.36it/s]\n"
     ]
    },
    {
     "name": "stdout",
     "output_type": "stream",
     "text": [
      "Epoch 31/50 - Distillation Loss: 7.0084\n"
     ]
    },
    {
     "name": "stderr",
     "output_type": "stream",
     "text": [
      "Epoch 32/50: 100%|██████████| 36/36 [00:05<00:00,  6.28it/s]\n"
     ]
    },
    {
     "name": "stdout",
     "output_type": "stream",
     "text": [
      "Epoch 32/50 - Distillation Loss: 7.0083\n"
     ]
    },
    {
     "name": "stderr",
     "output_type": "stream",
     "text": [
      "Epoch 33/50: 100%|██████████| 36/36 [00:05<00:00,  6.41it/s]\n"
     ]
    },
    {
     "name": "stdout",
     "output_type": "stream",
     "text": [
      "Epoch 33/50 - Distillation Loss: 7.0081\n"
     ]
    },
    {
     "name": "stderr",
     "output_type": "stream",
     "text": [
      "Epoch 34/50: 100%|██████████| 36/36 [00:05<00:00,  6.06it/s]\n"
     ]
    },
    {
     "name": "stdout",
     "output_type": "stream",
     "text": [
      "Epoch 34/50 - Distillation Loss: 7.0077\n"
     ]
    },
    {
     "name": "stderr",
     "output_type": "stream",
     "text": [
      "Epoch 35/50: 100%|██████████| 36/36 [00:05<00:00,  6.33it/s]\n"
     ]
    },
    {
     "name": "stdout",
     "output_type": "stream",
     "text": [
      "Epoch 35/50 - Distillation Loss: 7.0077\n"
     ]
    },
    {
     "name": "stderr",
     "output_type": "stream",
     "text": [
      "Epoch 36/50: 100%|██████████| 36/36 [00:05<00:00,  6.29it/s]\n"
     ]
    },
    {
     "name": "stdout",
     "output_type": "stream",
     "text": [
      "Epoch 36/50 - Distillation Loss: 7.0080\n"
     ]
    },
    {
     "name": "stderr",
     "output_type": "stream",
     "text": [
      "Epoch 37/50: 100%|██████████| 36/36 [00:05<00:00,  6.19it/s]\n"
     ]
    },
    {
     "name": "stdout",
     "output_type": "stream",
     "text": [
      "Epoch 37/50 - Distillation Loss: 7.0079\n"
     ]
    },
    {
     "name": "stderr",
     "output_type": "stream",
     "text": [
      "Epoch 38/50: 100%|██████████| 36/36 [00:06<00:00,  5.99it/s]\n"
     ]
    },
    {
     "name": "stdout",
     "output_type": "stream",
     "text": [
      "Epoch 38/50 - Distillation Loss: 7.0078\n"
     ]
    },
    {
     "name": "stderr",
     "output_type": "stream",
     "text": [
      "Epoch 39/50: 100%|██████████| 36/36 [00:06<00:00,  5.98it/s]\n"
     ]
    },
    {
     "name": "stdout",
     "output_type": "stream",
     "text": [
      "Epoch 39/50 - Distillation Loss: 7.0083\n"
     ]
    },
    {
     "name": "stderr",
     "output_type": "stream",
     "text": [
      "Epoch 40/50: 100%|██████████| 36/36 [00:05<00:00,  6.25it/s]\n"
     ]
    },
    {
     "name": "stdout",
     "output_type": "stream",
     "text": [
      "Epoch 40/50 - Distillation Loss: 7.0078\n"
     ]
    },
    {
     "name": "stderr",
     "output_type": "stream",
     "text": [
      "Epoch 41/50: 100%|██████████| 36/36 [00:06<00:00,  5.89it/s]\n"
     ]
    },
    {
     "name": "stdout",
     "output_type": "stream",
     "text": [
      "Epoch 41/50 - Distillation Loss: 7.0081\n"
     ]
    },
    {
     "name": "stderr",
     "output_type": "stream",
     "text": [
      "Epoch 42/50: 100%|██████████| 36/36 [00:05<00:00,  6.28it/s]\n"
     ]
    },
    {
     "name": "stdout",
     "output_type": "stream",
     "text": [
      "Epoch 42/50 - Distillation Loss: 7.0078\n"
     ]
    },
    {
     "name": "stderr",
     "output_type": "stream",
     "text": [
      "Epoch 43/50: 100%|██████████| 36/36 [00:05<00:00,  6.14it/s]\n"
     ]
    },
    {
     "name": "stdout",
     "output_type": "stream",
     "text": [
      "Epoch 43/50 - Distillation Loss: 7.0081\n"
     ]
    },
    {
     "name": "stderr",
     "output_type": "stream",
     "text": [
      "Epoch 44/50: 100%|██████████| 36/36 [00:05<00:00,  6.31it/s]\n"
     ]
    },
    {
     "name": "stdout",
     "output_type": "stream",
     "text": [
      "Epoch 44/50 - Distillation Loss: 7.0079\n"
     ]
    },
    {
     "name": "stderr",
     "output_type": "stream",
     "text": [
      "Epoch 45/50: 100%|██████████| 36/36 [00:05<00:00,  6.28it/s]\n"
     ]
    },
    {
     "name": "stdout",
     "output_type": "stream",
     "text": [
      "Epoch 45/50 - Distillation Loss: 7.0079\n"
     ]
    },
    {
     "name": "stderr",
     "output_type": "stream",
     "text": [
      "Epoch 46/50: 100%|██████████| 36/36 [00:05<00:00,  6.36it/s]\n"
     ]
    },
    {
     "name": "stdout",
     "output_type": "stream",
     "text": [
      "Epoch 46/50 - Distillation Loss: 7.0080\n"
     ]
    },
    {
     "name": "stderr",
     "output_type": "stream",
     "text": [
      "Epoch 47/50: 100%|██████████| 36/36 [00:05<00:00,  6.29it/s]\n"
     ]
    },
    {
     "name": "stdout",
     "output_type": "stream",
     "text": [
      "Epoch 47/50 - Distillation Loss: 7.0076\n"
     ]
    },
    {
     "name": "stderr",
     "output_type": "stream",
     "text": [
      "Epoch 48/50: 100%|██████████| 36/36 [00:05<00:00,  6.04it/s]\n"
     ]
    },
    {
     "name": "stdout",
     "output_type": "stream",
     "text": [
      "Epoch 48/50 - Distillation Loss: 7.0075\n"
     ]
    },
    {
     "name": "stderr",
     "output_type": "stream",
     "text": [
      "Epoch 49/50: 100%|██████████| 36/36 [00:05<00:00,  6.45it/s]\n"
     ]
    },
    {
     "name": "stdout",
     "output_type": "stream",
     "text": [
      "Epoch 49/50 - Distillation Loss: 7.0082\n"
     ]
    },
    {
     "name": "stderr",
     "output_type": "stream",
     "text": [
      "Epoch 50/50: 100%|██████████| 36/36 [00:05<00:00,  6.11it/s]\n"
     ]
    },
    {
     "name": "stdout",
     "output_type": "stream",
     "text": [
      "Epoch 50/50 - Distillation Loss: 7.0083\n",
      "\n",
      "--- FINAL EVALUATION OF DISTILLED STUDENT MODEL ---\n",
      "Student Model Accuracy: 13.19%\n",
      "\n",
      "Classification Report:\n",
      "              precision    recall  f1-score   support\n",
      "\n",
      "     neutral       0.00      0.00      0.00        19\n",
      "        calm       0.00      0.00      0.00        38\n",
      "       happy       0.00      0.00      0.00        38\n",
      "         sad       0.13      1.00      0.23        38\n",
      "       angry       0.00      0.00      0.00        39\n",
      "     fearful       0.00      0.00      0.00        39\n",
      "     disgust       0.00      0.00      0.00        38\n",
      "    surprise       0.00      0.00      0.00        39\n",
      "\n",
      "    accuracy                           0.13       288\n",
      "   macro avg       0.02      0.12      0.03       288\n",
      "weighted avg       0.02      0.13      0.03       288\n",
      "\n"
     ]
    }
   ],
   "source": [
    "# --- This script trains a small 'student' CNN using the large 'teacher' ResNet18 ---\n",
    "import torch, torch.nn as nn, torch.nn.functional as F\n",
    "from torch.utils.data import Dataset, DataLoader\n",
    "import os, numpy as np\n",
    "from sklearn.model_selection import train_test_split\n",
    "from tqdm import tqdm\n",
    "from torchvision import models\n",
    "\n",
    "# --- Configuration ---\n",
    "SPECTROGRAM_PATH = \"/content/drive/MyDrive/ser_project/ravdess_spectrograms/\"\n",
    "TEACHER_CHECKPOINT_PATH = \"/content/drive/MyDrive/ser_project/resnet_best_augmented.pth\"\n",
    "STUDENT_CHECKPOINT_PATH = \"/content/drive/MyDrive/ser_project/student_cnn_distilled.pth\"\n",
    "LEARNING_RATE = 0.005; BATCH_SIZE = 32; EPOCHS = 50\n",
    "TEMPERATURE = 4.0; ALPHA = 0.3\n",
    "device = torch.device(\"cuda\" if torch.cuda.is_available() else \"cpu\"); print(f\"Using device: {device}\")\n",
    "\n",
    "# --- Mappings and Dataset (using pre-computed spectrograms for speed) ---\n",
    "emotion_map = { \"01\": 0, \"02\": 1, \"03\": 2, \"04\": 3, \"05\": 4, \"06\": 5, \"07\": 6, \"08\": 7 }\n",
    "emotion_labels_list = [\"neutral\", \"calm\", \"happy\", \"sad\", \"angry\", \"fearful\", \"disgust\", \"surprise\"]\n",
    "class SpectrogramDataset(Dataset):\n",
    "    def __init__(self, file_paths, labels, target_width=300):\n",
    "        self.file_paths, self.labels, self.target_width = file_paths, labels, target_width\n",
    "    def __len__(self): return len(self.file_paths)\n",
    "    def __getitem__(self, idx):\n",
    "        spectrogram = np.load(self.file_paths[idx]); label = self.labels[idx]\n",
    "        current_width = spectrogram.shape[1]\n",
    "        if current_width < self.target_width: spectrogram = np.pad(spectrogram, ((0, 0), (0, self.target_width - current_width)), mode='constant')\n",
    "        elif current_width > self.target_width: spectrogram = spectrogram[:, :self.target_width]\n",
    "        spec_min, spec_max = spectrogram.min(), spectrogram.max()\n",
    "        if spec_max > spec_min: spectrogram = (spectrogram - spec_min) / (spec_max - spec_min)\n",
    "        spectrogram_3ch = np.stack([spectrogram, spectrogram, spectrogram], axis=0)\n",
    "        return torch.tensor(spectrogram_3ch, dtype=torch.float32), torch.tensor(label, dtype=torch.long)\n",
    "\n",
    "# --- Student Model Definition (AudioCNN Modified for 3-Channel Input) ---\n",
    "class AudioCNN(nn.Module):\n",
    "    def __init__(self, num_classes=8, flattened_size=9216):\n",
    "        super(AudioCNN, self).__init__(); self.conv1 = nn.Conv2d(3, 16, 3, 1, 1); self.bn1 = nn.BatchNorm2d(16); self.pool1 = nn.MaxPool2d(2, 2)\n",
    "        self.conv2 = nn.Conv2d(16, 32, 3, 1, 1); self.bn2 = nn.BatchNorm2d(32); self.pool2 = nn.MaxPool2d(2, 2)\n",
    "        self.conv3 = nn.Conv2d(32, 64, 3, 1, 1); self.bn3 = nn.BatchNorm2d(64); self.pool3 = nn.MaxPool2d(4, 4)\n",
    "        self.flatten = nn.Flatten(); self.fc1 = nn.Linear(flattened_size, 128); self.dropout = nn.Dropout(0.5); self.fc2 = nn.Linear(128, num_classes)\n",
    "    def forward(self, x):\n",
    "        x = self.pool1(F.relu(self.bn1(self.conv1(x)))); x = self.pool2(F.relu(self.bn2(self.conv2(x)))); x = self.pool3(F.relu(self.bn3(self.conv3(x))))\n",
    "        x = self.flatten(x); x = F.relu(self.fc1(x)); x = self.dropout(x); x = self.fc2(x); return x\n",
    "\n",
    "# --- Prepare Data ---\n",
    "all_files = [os.path.join(SPECTROGRAM_PATH, f) for f in os.listdir(SPECTROGRAM_PATH) if f.endswith('.npy')]\n",
    "all_labels = [emotion_map[os.path.basename(f).split(\"-\")[2]] for f in all_files]\n",
    "train_files, test_files, train_labels, test_labels = train_test_split(all_files, all_labels, test_size=0.2, random_state=42, stratify=all_labels)\n",
    "train_dataset = SpectrogramDataset(train_files, train_labels); test_dataset = SpectrogramDataset(test_files, test_labels)\n",
    "train_loader = DataLoader(train_dataset, batch_size=BATCH_SIZE, shuffle=True); test_loader = DataLoader(test_dataset, batch_size=BATCH_SIZE, shuffle=False)\n",
    "\n",
    "# --- Load Teacher Model ---\n",
    "print(\"Loading Teacher model (ResNet18)...\")\n",
    "teacher_model = models.resnet18(); teacher_model.fc = nn.Linear(teacher_model.fc.in_features, len(emotion_labels_list))\n",
    "teacher_checkpoint = torch.load(TEACHER_CHECKPOINT_PATH); teacher_model.load_state_dict(teacher_checkpoint['model_state_dict'])\n",
    "teacher_model = teacher_model.to(device); teacher_model.eval()\n",
    "\n",
    "# --- Initialize Student Model ---\n",
    "print(\"Initializing Student model (AudioCNN)...\")\n",
    "student_model = AudioCNN(num_classes=8, flattened_size=9216).to(device)\n",
    "\n",
    "# --- Optimizer and Loss Functions ---\n",
    "optimizer = torch.optim.Adam(student_model.parameters(), lr=LEARNING_RATE)\n",
    "criterion_ce = nn.CrossEntropyLoss(); criterion_kd = nn.KLDivLoss(reduction='batchmean')\n",
    "\n",
    "# --- Distillation Training Loop ---\n",
    "print(\"Starting distillation training...\")\n",
    "for epoch in range(EPOCHS):\n",
    "    student_model.train(); running_loss = 0.0\n",
    "    for inputs, labels in tqdm(train_loader, desc=f\"Epoch {epoch+1}/{EPOCHS}\"):\n",
    "        inputs, labels = inputs.to(device), labels.to(device)\n",
    "        with torch.no_grad(): teacher_outputs = teacher_model(inputs)\n",
    "        student_outputs = student_model(inputs)\n",
    "        loss_ce = criterion_ce(student_outputs, labels)\n",
    "        soft_teacher = F.softmax(teacher_outputs / TEMPERATURE, dim=1)\n",
    "        soft_student = F.log_softmax(student_outputs / TEMPERATURE, dim=1)\n",
    "        loss_kd = criterion_kd(soft_student, soft_teacher)\n",
    "        loss = ALPHA * loss_ce + (1.0 - ALPHA) * (TEMPERATURE**2) * loss_kd\n",
    "        optimizer.zero_grad(); loss.backward(); optimizer.step()\n",
    "        running_loss += loss.item() * inputs.size(0)\n",
    "    epoch_loss = running_loss / len(train_dataset); print(f\"Epoch {epoch+1}/{EPOCHS} - Distillation Loss: {epoch_loss:.4f}\")\n",
    "\n",
    "# --- Final Evaluation of Student Model ---\n",
    "student_model.eval(); all_preds, all_true = [], []\n",
    "with torch.no_grad():\n",
    "    for inputs, labels in test_loader:\n",
    "        inputs, labels = inputs.to(device), labels.to(device)\n",
    "        outputs = student_model(inputs); _, preds = torch.max(outputs, 1)\n",
    "        all_preds.extend(preds.cpu().numpy()); all_true.extend(labels.cpu().numpy())\n",
    "accuracy = accuracy_score(all_true, all_preds)\n",
    "print(f\"\\n--- FINAL EVALUATION OF DISTILLED STUDENT MODEL ---\")\n",
    "print(f\"Student Model Accuracy: {accuracy * 100:.2f}%\")\n",
    "print(\"\\nClassification Report:\"); print(classification_report(all_true, all_preds, target_names=emotion_labels_list, zero_division=0))"
   ]
  }
 ],
 "metadata": {
  "colab": {
   "authorship_tag": "ABX9TyMRDb58RR/DFEk1nDkYaHL4",
   "provenance": []
  },
  "kernelspec": {
   "display_name": "Python 3",
   "name": "python3"
  },
  "language_info": {
   "name": "python"
  }
 },
 "nbformat": 4,
 "nbformat_minor": 0
}
